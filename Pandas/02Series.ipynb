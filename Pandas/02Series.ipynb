{
 "cells": [
  {
   "cell_type": "code",
   "execution_count": 2,
   "id": "c86a8aa0",
   "metadata": {},
   "outputs": [
    {
     "data": {
      "text/html": [
       "<div>\n",
       "<style scoped>\n",
       "    .dataframe tbody tr th:only-of-type {\n",
       "        vertical-align: middle;\n",
       "    }\n",
       "\n",
       "    .dataframe tbody tr th {\n",
       "        vertical-align: top;\n",
       "    }\n",
       "\n",
       "    .dataframe thead th {\n",
       "        text-align: right;\n",
       "    }\n",
       "</style>\n",
       "<table border=\"1\" class=\"dataframe\">\n",
       "  <thead>\n",
       "    <tr style=\"text-align: right;\">\n",
       "      <th></th>\n",
       "      <th>Ciudad</th>\n",
       "      <th>Temperatura</th>\n",
       "      <th>Precipitacion</th>\n",
       "      <th>Humedad</th>\n",
       "      <th>Viento</th>\n",
       "    </tr>\n",
       "  </thead>\n",
       "  <tbody>\n",
       "    <tr>\n",
       "      <th>0</th>\n",
       "      <td>Madrid</td>\n",
       "      <td>25</td>\n",
       "      <td>5</td>\n",
       "      <td>60</td>\n",
       "      <td>12</td>\n",
       "    </tr>\n",
       "    <tr>\n",
       "      <th>1</th>\n",
       "      <td>Londres</td>\n",
       "      <td>18</td>\n",
       "      <td>10</td>\n",
       "      <td>75</td>\n",
       "      <td>15</td>\n",
       "    </tr>\n",
       "    <tr>\n",
       "      <th>2</th>\n",
       "      <td>París</td>\n",
       "      <td>22</td>\n",
       "      <td>8</td>\n",
       "      <td>70</td>\n",
       "      <td>10</td>\n",
       "    </tr>\n",
       "    <tr>\n",
       "      <th>3</th>\n",
       "      <td>Nueva York</td>\n",
       "      <td>30</td>\n",
       "      <td>20</td>\n",
       "      <td>65</td>\n",
       "      <td>18</td>\n",
       "    </tr>\n",
       "    <tr>\n",
       "      <th>4</th>\n",
       "      <td>Tokio</td>\n",
       "      <td>28</td>\n",
       "      <td>15</td>\n",
       "      <td>80</td>\n",
       "      <td>14</td>\n",
       "    </tr>\n",
       "  </tbody>\n",
       "</table>\n",
       "</div>"
      ],
      "text/plain": [
       "       Ciudad  Temperatura  Precipitacion  Humedad  Viento\n",
       "0      Madrid           25              5       60      12\n",
       "1     Londres           18             10       75      15\n",
       "2       París           22              8       70      10\n",
       "3  Nueva York           30             20       65      18\n",
       "4       Tokio           28             15       80      14"
      ]
     },
     "execution_count": 2,
     "metadata": {},
     "output_type": "execute_result"
    }
   ],
   "source": [
    "import pandas as pd\n",
    "df = pd.read_csv(r\"C:\\_NotebookAvanzadaII\\Pandas\\clima.csv\")\n",
    "df"
   ]
  },
  {
   "cell_type": "markdown",
   "id": "45bf36ad",
   "metadata": {},
   "source": [
    "# Serie es un arreglo unidimensional"
   ]
  },
  {
   "cell_type": "code",
   "execution_count": 3,
   "id": "906f60db",
   "metadata": {},
   "outputs": [
    {
     "data": {
      "text/plain": [
       "0        Madrid\n",
       "1       Londres\n",
       "2         París\n",
       "3    Nueva York\n",
       "4         Tokio\n",
       "Name: Ciudad, dtype: object"
      ]
     },
     "execution_count": 3,
     "metadata": {},
     "output_type": "execute_result"
    }
   ],
   "source": [
    "serie=df[\"Ciudad\"]\n",
    "serie"
   ]
  },
  {
   "cell_type": "code",
   "execution_count": 4,
   "id": "0b39b076",
   "metadata": {},
   "outputs": [
    {
     "data": {
      "text/plain": [
       "0    60\n",
       "1    75\n",
       "2    70\n",
       "3    65\n",
       "4    80\n",
       "Name: Humedad, dtype: int64"
      ]
     },
     "execution_count": 4,
     "metadata": {},
     "output_type": "execute_result"
    }
   ],
   "source": [
    "serie2 = df[\"Humedad\"]\n",
    "serie2"
   ]
  },
  {
   "cell_type": "code",
   "execution_count": 5,
   "id": "76ac0cde",
   "metadata": {},
   "outputs": [
    {
     "data": {
      "text/plain": [
       "0    12\n",
       "1    15\n",
       "2    10\n",
       "3    18\n",
       "4    14\n",
       "Name: Viento, dtype: int64"
      ]
     },
     "execution_count": 5,
     "metadata": {},
     "output_type": "execute_result"
    }
   ],
   "source": [
    "serie3 = df[\"Viento\"]\n",
    "serie3"
   ]
  }
 ],
 "metadata": {
  "kernelspec": {
   "display_name": "base",
   "language": "python",
   "name": "python3"
  },
  "language_info": {
   "codemirror_mode": {
    "name": "ipython",
    "version": 3
   },
   "file_extension": ".py",
   "mimetype": "text/x-python",
   "name": "python",
   "nbconvert_exporter": "python",
   "pygments_lexer": "ipython3",
   "version": "3.12.7"
  }
 },
 "nbformat": 4,
 "nbformat_minor": 5
}
