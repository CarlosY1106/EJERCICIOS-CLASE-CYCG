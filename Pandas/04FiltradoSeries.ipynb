{
 "cells": [
  {
   "cell_type": "code",
   "execution_count": 3,
   "id": "f45e3e55",
   "metadata": {},
   "outputs": [],
   "source": [
    "import pandas as pd\n",
    "\n",
    "serie=pd.Series([10,20,25,15, 5])"
   ]
  },
  {
   "cell_type": "code",
   "execution_count": 5,
   "id": "feb9adc6",
   "metadata": {},
   "outputs": [
    {
     "data": {
      "text/plain": [
       "0    10\n",
       "1    20\n",
       "2    25\n",
       "3    15\n",
       "dtype: int64"
      ]
     },
     "execution_count": 5,
     "metadata": {},
     "output_type": "execute_result"
    }
   ],
   "source": [
    "filtro=serie >=10# filtro booleano \n",
    "serie_filtrada=serie[filtro]\n",
    "serie_filtrada"
   ]
  },
  {
   "cell_type": "code",
   "execution_count": null,
   "id": "39edd6d7",
   "metadata": {},
   "outputs": [
    {
     "data": {
      "text/plain": [
       "0    False\n",
       "1     True\n",
       "2     True\n",
       "3     True\n",
       "4    False\n",
       "dtype: bool"
      ]
     },
     "execution_count": 5,
     "metadata": {},
     "output_type": "execute_result"
    }
   ],
   "source": [
    "filtro "
   ]
  },
  {
   "cell_type": "code",
   "execution_count": 22,
   "id": "c85c2462",
   "metadata": {},
   "outputs": [
    {
     "name": "stdout",
     "output_type": "stream",
     "text": [
      "2    25\n",
      "1    20\n",
      "3    15\n",
      "0    10\n",
      "4     5\n",
      "dtype: int64\n",
      "0    10\n",
      "1    20\n",
      "2    25\n",
      "3    15\n",
      "4     5\n",
      "dtype: int64\n"
     ]
    }
   ],
   "source": [
    "serie[filtro]\n",
    "serie.sort_values(ascending=True)\n",
    "serie \n",
    "print(serie.sort_values(ascending=False))\n",
    "print(serie)"
   ]
  },
  {
   "cell_type": "markdown",
   "id": "fb83b004",
   "metadata": {},
   "source": [
    "## otra Serie"
   ]
  },
  {
   "cell_type": "code",
   "execution_count": 7,
   "id": "cf5d97eb",
   "metadata": {},
   "outputs": [
    {
     "data": {
      "text/plain": [
       "pandas.core.series.Series"
      ]
     },
     "execution_count": 7,
     "metadata": {},
     "output_type": "execute_result"
    }
   ],
   "source": [
    "serie2=pd.Series([\"banana\", \"manzana\", \"pera\", \"kiwi\", \"naranja\"])\n",
    "serie2\n",
    "type(serie2)"
   ]
  },
  {
   "cell_type": "code",
   "execution_count": null,
   "id": "1a2e28b4",
   "metadata": {},
   "outputs": [],
   "source": [
    "# filtrar\n",
    "dir (serie2)"
   ]
  },
  {
   "cell_type": "code",
   "execution_count": null,
   "id": "caf0f9e6",
   "metadata": {},
   "outputs": [],
   "source": [
    "help(serie2.str)"
   ]
  },
  {
   "cell_type": "code",
   "execution_count": 8,
   "id": "fc31b57b",
   "metadata": {},
   "outputs": [
    {
     "data": {
      "text/plain": [
       "2    pera\n",
       "dtype: object"
      ]
     },
     "execution_count": 8,
     "metadata": {},
     "output_type": "execute_result"
    }
   ],
   "source": [
    "filtro2=serie2.str.contains(\"e\") # filtro booleano\n",
    "serie2_filtrada=serie2[filtro2]\n",
    "serie2_filtrada"
   ]
  },
  {
   "cell_type": "markdown",
   "id": "22d09b1d",
   "metadata": {},
   "source": [
    "## Agregaciones de series en pandas\n",
    "* son para resumir datos... promedios, sumas totales etc"
   ]
  },
  {
   "cell_type": "code",
   "execution_count": null,
   "id": "dde16ca1",
   "metadata": {},
   "outputs": [],
   "source": [
    "\n",
    "promedio "
   ]
  }
 ],
 "metadata": {
  "kernelspec": {
   "display_name": "Python 3",
   "language": "python",
   "name": "python3"
  },
  "language_info": {
   "codemirror_mode": {
    "name": "ipython",
    "version": 3
   },
   "file_extension": ".py",
   "mimetype": "text/x-python",
   "name": "python",
   "nbconvert_exporter": "python",
   "pygments_lexer": "ipython3",
   "version": "3.12.2"
  }
 },
 "nbformat": 4,
 "nbformat_minor": 5
}
