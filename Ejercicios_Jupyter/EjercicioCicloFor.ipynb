{
 "cells": [
  {
   "cell_type": "code",
   "execution_count": null,
   "id": "04ebc88f",
   "metadata": {},
   "outputs": [],
   "source": [
    "#Ciclo for en python\n",
    "\n",
    "for i in range (11):\n",
    "    print (i)\n",
    "\n",
    "#Hacer un prorgrama usando un ciclo for que imprima la tabla del 5\n",
    "    print (\"TABLA DE MULTIPLICAR DEL 5\")\n",
    "for i in range (1,11):\n",
    "    print (5, \"x\", i, \"=\", 5*i)\n"
   ]
  }
 ],
 "metadata": {
  "language_info": {
   "name": "python"
  }
 },
 "nbformat": 4,
 "nbformat_minor": 5
}
