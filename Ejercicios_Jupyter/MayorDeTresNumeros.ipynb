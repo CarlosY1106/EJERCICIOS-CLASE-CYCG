{
 "cells": [
  {
   "cell_type": "code",
   "execution_count": null,
   "id": "a35ca020",
   "metadata": {},
   "outputs": [],
   "source": [
    "#Programa que solicita tres numeros y determina cual es el mayor de los tres o si son iguales\n",
    "\n",
    "Num1 = int(input(\"Por favor ingrese el primer numero: \"))\n",
    "Num2 = int(input(\"Por favor ingrese el segundo numero: \"))\n",
    "Num3 = int(input(\"Por favor ingrese el tercer numero: \"))\n",
    "\n",
    "if Num1 > Num2 and Num1 > Num3:\n",
    "    print(\"El primer numero es el mayor de los tres\")\n",
    "else:\n",
    "    if Num2 > Num1 and Num2 > Num3:\n",
    "        print(\"El segundo numero es el mayor de los tres\")\n",
    "    else:\n",
    "        if Num3 > Num1 and Num3 > Num2:\n",
    "            print(\"El tercer numero es el mayor de los tres\")\n",
    "        else:\n",
    "            print(\"Los tres numeros son iguales\")"
   ]
  }
 ],
 "metadata": {
  "language_info": {
   "name": "python"
  }
 },
 "nbformat": 4,
 "nbformat_minor": 5
}
