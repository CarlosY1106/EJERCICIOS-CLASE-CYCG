{
 "cells": [
  {
   "cell_type": "code",
   "execution_count": null,
   "id": "ba310be9",
   "metadata": {},
   "outputs": [],
   "source": [
    "#Clase de operaciones aritméticas \n",
    "class OperacionesAritmeticas:\n",
    "    def __init__(self, a, b):\n",
    "        self.a = a\n",
    "        self.b = b\n",
    "\n",
    "    def suma(self):\n",
    "        return (self.a + self.b)\n",
    "\n",
    "    def resta(self):\n",
    "        return (self.a - self.b)\n",
    "\n",
    "    def multiplicacion(self):\n",
    "        return (self.a * self.b)\n",
    "\n",
    "    def division(self):\n",
    "        if self.b != 0:\n",
    "            return (self.a / self.b)\n",
    "        else:\n",
    "            return \"Error: No se puede dividir entre cero\"\n",
    "\n",
    "a = int(input(\"Ingrese el primer numero: \"))\n",
    "b = int(input(\"Ingrese el segundo numero: \"))\n",
    "\n",
    "Operacion = OperacionesAritmeticas(a, b)\n",
    "\n",
    "print(\"El resultado de la suma es\", Operacion.suma())\n",
    "print(\"El resultado de la resta es\", Operacion.resta())\n",
    "print(\"El resultado de la multiplicacion es\", Operacion.multiplicacion())\n",
    "print(\"El resultado de la division es\", Operacion.division())"
   ]
  }
 ],
 "metadata": {
  "language_info": {
   "name": "python"
  }
 },
 "nbformat": 4,
 "nbformat_minor": 5
}
