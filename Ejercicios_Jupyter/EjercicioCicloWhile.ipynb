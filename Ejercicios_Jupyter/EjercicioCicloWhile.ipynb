{
 "cells": [
  {
   "cell_type": "code",
   "execution_count": null,
   "id": "a2eaa8ab",
   "metadata": {},
   "outputs": [],
   "source": [
    "#Programa para ejemplificar el uso del ciclo while controlado por una variable bandera\n",
    "i=1\n",
    "\n",
    "while i<=10:\n",
    "    print (\"Numero: \",i)\n",
    "    i+=1\n",
    "\n",
    "    "
   ]
  }
 ],
 "metadata": {
  "language_info": {
   "name": "python"
  }
 },
 "nbformat": 4,
 "nbformat_minor": 5
}
