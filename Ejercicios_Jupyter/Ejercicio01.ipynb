{
 "cells": [
  {
   "cell_type": "code",
   "execution_count": null,
   "id": "c6403661",
   "metadata": {},
   "outputs": [],
   "source": [
    "#Crear un programa que calcule el total a pagar por un solo producto, incluyendo ISV. \n",
    "#Si el subtotal supera los 10,000, aplicar un 25% de descuento antes de calcular el impuesto. Mostrar el total final.\n",
    "\n",
    "TotalCompra = 0\n",
    "Descuento = 0.25\n",
    "Isv = 0.15\n",
    "\n",
    "ValorCompra = float(input(\"Por favor ingrese el valor de la compra por un producto: \"))\n",
    "if ValorCompra > 10000:\n",
    "    Descuento = 0.25\n",
    "else:\n",
    "    Descuento = 0\n",
    "\n",
    "TotalCompra = ValorCompra - (ValorCompra * Descuento)\n",
    "TotalCompra = TotalCompra + (TotalCompra * Isv)\n",
    "print (\"El total a pagar por el producto es: L.\", TotalCompra)"
   ]
  },
  {
   "cell_type": "code",
   "execution_count": null,
   "id": "ac16002f-7e69-4d16-96a4-672d4802bb2a",
   "metadata": {},
   "outputs": [],
   "source": []
  }
 ],
 "metadata": {
  "kernelspec": {
   "display_name": "Python [conda env:base] *",
   "language": "python",
   "name": "conda-base-py"
  },
  "language_info": {
   "codemirror_mode": {
    "name": "ipython",
    "version": 3
   },
   "file_extension": ".py",
   "mimetype": "text/x-python",
   "name": "python",
   "nbconvert_exporter": "python",
   "pygments_lexer": "ipython3",
   "version": "3.12.7"
  }
 },
 "nbformat": 4,
 "nbformat_minor": 5
}
