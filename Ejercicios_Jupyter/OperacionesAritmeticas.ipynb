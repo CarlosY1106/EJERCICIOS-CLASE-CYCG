{
 "cells": [
  {
   "cell_type": "code",
   "execution_count": null,
   "id": "bb399b0c",
   "metadata": {},
   "outputs": [],
   "source": [
    "\n",
    "#Programa que hace operaciones aritméticas básicas\n",
    "a = 10\n",
    "b = 5\n",
    "\n",
    "#Suma\n",
    "Suma = (a + b)\n",
    "print(f\"{a} + {b} = {Suma}\")\n",
    "\n",
    "#Resta\n",
    "Resta = (a - b)\n",
    "print(f\"{a} - {b} = {Resta}\")\n",
    "\n",
    "#Multiplicacion\n",
    "Multi = (a * b)\n",
    "print(f\"{a} * {b} = {Multi}\")\n",
    "\n",
    "#División\n",
    "Div = (a / b)\n",
    "print(f\"{a} / {b} = {Div}\")\n",
    "\n",
    "#Ingreso de valores a variables\n",
    "x = int(input(\"x: \"))\n",
    "y = int(input(\"y: \"))\n",
    "\n",
    "#Potencia\n",
    "Potencia = x ** y\n",
    "print(f\"{x} ^ {y} = {Potencia}\")\n",
    "\n",
    "#Operador de residuo\n",
    "Residuo = x % y\n",
    "print(f\"{x} % {y} = {Residuo}\")\n",
    "\n",
    "#Raiz cuadrada"
   ]
  }
 ],
 "metadata": {
  "kernelspec": {
   "display_name": "base",
   "language": "python",
   "name": "python3"
  },
  "language_info": {
   "codemirror_mode": {
    "name": "ipython",
    "version": 3
   },
   "file_extension": ".py",
   "mimetype": "text/x-python",
   "name": "python",
   "nbconvert_exporter": "python",
   "pygments_lexer": "ipython3",
   "version": "3.12.7"
  }
 },
 "nbformat": 4,
 "nbformat_minor": 5
}
