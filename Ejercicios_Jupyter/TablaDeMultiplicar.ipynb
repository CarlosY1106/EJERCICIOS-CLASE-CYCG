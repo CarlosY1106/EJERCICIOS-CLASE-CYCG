{
 "cells": [
  {
   "cell_type": "code",
   "execution_count": null,
   "id": "d9c7bd56",
   "metadata": {},
   "outputs": [],
   "source": [
    "#Programa que solicita un numero al usuario y muestra la tabla de multiplicar de dicho numero\n",
    "\n",
    "Num = int (input(\"Por favor ingrese un numero: \"))\n",
    "print(\"La tabla de multiplicar del numero\", Num, \"es:\")\n",
    "\n",
    "for i in range (1,11):\n",
    "    print(Num, \"*\", i, \"=\", Num * i)"
   ]
  }
 ],
 "metadata": {
  "kernelspec": {
   "display_name": "base",
   "language": "python",
   "name": "python3"
  },
  "language_info": {
   "codemirror_mode": {
    "name": "ipython",
    "version": 3
   },
   "file_extension": ".py",
   "mimetype": "text/x-python",
   "name": "python",
   "nbconvert_exporter": "python",
   "pygments_lexer": "ipython3",
   "version": "3.12.7"
  }
 },
 "nbformat": 4,
 "nbformat_minor": 5
}
