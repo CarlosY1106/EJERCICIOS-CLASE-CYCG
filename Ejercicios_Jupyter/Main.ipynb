{
 "cells": [
  {
   "cell_type": "code",
   "execution_count": null,
   "id": "5897d879",
   "metadata": {},
   "outputs": [],
   "source": [
    "#Invocaremos la clase animal\n",
    "from Clase01 import Perro\n",
    "\n",
    "MiPerro = Perro (\"Rambo\")\n",
    "MiPerro.ladrar()\n",
    "MiPerro.correr()"
   ]
  }
 ],
 "metadata": {
  "language_info": {
   "name": "python"
  }
 },
 "nbformat": 4,
 "nbformat_minor": 5
}
