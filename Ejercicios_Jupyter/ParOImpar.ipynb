{
 "cells": [
  {
   "cell_type": "code",
   "execution_count": null,
   "id": "9b7be5f1",
   "metadata": {},
   "outputs": [],
   "source": [
    "#Programa que solicita un numero y determina si es par o impar\n",
    "\n",
    "Num = int (input(\"Por favor ingrese un numero: \"))\n",
    "if Num %2 == 0:\n",
    "    print(\"El numero que ingreso es par\")\n",
    "else:\n",
    "    print(\"El numero que ingreso es impar\")"
   ]
  }
 ],
 "metadata": {
  "language_info": {
   "name": "python"
  }
 },
 "nbformat": 4,
 "nbformat_minor": 5
}
