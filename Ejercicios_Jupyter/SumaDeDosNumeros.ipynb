{
 "cells": [
  {
   "cell_type": "code",
   "execution_count": null,
   "id": "bd0907d8",
   "metadata": {},
   "outputs": [],
   "source": [
    "#Programa que solicita dos números y muestra la suma de ambos\n",
    "\n",
    "Num1 = int(input(\"Por favor ingrese el primer valor: \"))\n",
    "Num2 = int(input(\"Por favor ingrese el segundo valor: \"))\n",
    "\n",
    "Sumatoria = (Num1 + Num2)\n",
    "print(\"La suma de los dos numeros es igual a: \", Sumatoria)"
   ]
  }
 ],
 "metadata": {
  "language_info": {
   "name": "python"
  }
 },
 "nbformat": 4,
 "nbformat_minor": 5
}
