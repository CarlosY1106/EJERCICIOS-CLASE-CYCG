{
 "cells": [
  {
   "cell_type": "code",
   "execution_count": null,
   "id": "75255afc",
   "metadata": {},
   "outputs": [],
   "source": [
    "#Programa que solicita un numero y muestra la suma de los primeros n numeros\n",
    "Num = int (input(\"Por favor ingrese un numero: \"))\n",
    "print(\"La suma de los primeros\", Num, \"numeros es: \")\n",
    "\n",
    "Sumatoria = 0\n",
    "for i in range (1, Num + 1):\n",
    "    Sumatoria += i\n",
    "print(\"La suma es:\", Sumatoria)"
   ]
  }
 ],
 "metadata": {
  "language_info": {
   "name": "python"
  }
 },
 "nbformat": 4,
 "nbformat_minor": 5
}
