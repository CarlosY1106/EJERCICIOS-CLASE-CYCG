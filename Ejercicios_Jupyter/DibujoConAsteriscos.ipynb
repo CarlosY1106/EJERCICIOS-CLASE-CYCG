{
 "cells": [
  {
   "cell_type": "code",
   "execution_count": null,
   "id": "ee785cf0",
   "metadata": {},
   "outputs": [],
   "source": [
    "#Programa que solicita un numero positivo y dibuja una linea de asteriscos con dicho numero\n",
    "\n",
    "Num = int (input (\"Por favor ingrese un numero entero positivo: \"))\n",
    "\n",
    "print(\"La linea de asteriscos del tamaño\", Num, \"es:\")\n",
    "for i in range (Num):\n",
    "    print(\"*\", end=\"\") \n",
    "print()"
   ]
  }
 ],
 "metadata": {
  "kernelspec": {
   "display_name": "base",
   "language": "python",
   "name": "python3"
  },
  "language_info": {
   "codemirror_mode": {
    "name": "ipython",
    "version": 3
   },
   "file_extension": ".py",
   "mimetype": "text/x-python",
   "name": "python",
   "nbconvert_exporter": "python",
   "pygments_lexer": "ipython3",
   "version": "3.12.7"
  }
 },
 "nbformat": 4,
 "nbformat_minor": 5
}
