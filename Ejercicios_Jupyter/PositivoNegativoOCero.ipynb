{
 "cells": [
  {
   "cell_type": "code",
   "execution_count": null,
   "id": "fa1c24f0",
   "metadata": {},
   "outputs": [],
   "source": [
    "# Programa que solicita un numero al usuario y determina si es positivo, negativo o cero\n",
    "Num = int(input(\"Por favor ingrese un numero: \"))\n",
    "\n",
    "if Num>0:\n",
    "    print(\"El numero que ingreso es positivo\")\n",
    "else:\n",
    "    if Num<0:\n",
    "        print(\"El numero que ingreso es negativo\")\n",
    "    else:\n",
    "        print(\"El numero que ingreso es cero\")"
   ]
  }
 ],
 "metadata": {
  "language_info": {
   "name": "python"
  }
 },
 "nbformat": 4,
 "nbformat_minor": 5
}
