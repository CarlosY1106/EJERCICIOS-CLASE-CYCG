{
 "cells": [
  {
   "cell_type": "code",
   "execution_count": null,
   "id": "34329959",
   "metadata": {},
   "outputs": [],
   "source": [
    "#Hacer un programa que imprima la tabla de multiplicar del numero que el usuario ingrese.\n",
    "TablaMultiplicar = int(input(\"Por favor ingrese el numero de la tabla de multiplicar que quiere ver: \"))\n",
    "print(\"TABLA DE MULTIPLICAR DEL\", TablaMultiplicar)\n",
    "for i in range (1,11):\n",
    "    print (TablaMultiplicar, \"x\", i, \"=\", TablaMultiplicar*i)"
   ]
  }
 ],
 "metadata": {
  "language_info": {
   "name": "python"
  }
 },
 "nbformat": 4,
 "nbformat_minor": 5
}
