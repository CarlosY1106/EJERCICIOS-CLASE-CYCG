{
 "cells": [
  {
   "cell_type": "code",
   "execution_count": null,
   "id": "61162ac2",
   "metadata": {},
   "outputs": [],
   "source": [
    "#Hacer un programa para calcular la edad a partir del año de nacimiento de una persona.\n",
    "AnioActual = 2025\n",
    "Edad = 0\n",
    "AnioNacimiento = float (input(\"Por favor ingrese su año de nacimiento: \"))\n",
    "Edad = (AnioActual - AnioNacimiento)\n",
    "\n",
    "print (\"Su edad actualmente es: \", Edad)\n",
    "\n",
    "if Edad >= 21:\n",
    "    print(\"Usted es mayor de edad\")\n",
    "else:\n",
    "    print(\"Usted es menor de edad en el rango de los 21 años\")\n",
    "    \n",
    "if Edad >= 18:\n",
    "    print(\"Usted es ciudadano, ya puede ejercer su derecho al voto\")\n",
    "else:\n",
    "    print(\"Usted es menor de edad, no puede ejercer su derecho al voto\")"
   ]
  }
 ],
 "metadata": {
  "kernelspec": {
   "display_name": "base",
   "language": "python",
   "name": "python3"
  },
  "language_info": {
   "codemirror_mode": {
    "name": "ipython",
    "version": 3
   },
   "file_extension": ".py",
   "mimetype": "text/x-python",
   "name": "python",
   "nbconvert_exporter": "python",
   "pygments_lexer": "ipython3",
   "version": "3.12.7"
  }
 },
 "nbformat": 4,
 "nbformat_minor": 5
}
