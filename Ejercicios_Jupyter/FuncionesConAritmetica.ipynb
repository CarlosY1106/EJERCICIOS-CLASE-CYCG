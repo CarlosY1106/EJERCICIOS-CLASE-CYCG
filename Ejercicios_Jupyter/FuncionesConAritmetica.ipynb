{
 "cells": [
  {
   "cell_type": "code",
   "execution_count": null,
   "id": "2ab60b2f",
   "metadata": {},
   "outputs": [],
   "source": [
    "#Programa que imprime los resultadosa de las operaciones aritmeticas basicas con funciones\n",
    "\n",
    "#Declaracion defunciones\n",
    "def Suma (a,b):\n",
    "    return (a+b)\n",
    "\n",
    "def Resta (a,b):\n",
    "    return (a-b)\n",
    "\n",
    "def Multiplicacion (a,b):\n",
    "    return (a*b)\n",
    "\n",
    "def Division (a,b):\n",
    "    return (a/b)\n",
    "\n",
    "def Potencia (a,b):\n",
    "    return (a**b)\n",
    "\n",
    "def Raiz (a):\n",
    "    return a**(1/2)\n",
    "\n",
    "#Invocaciones de las funciones\n",
    "print(f\"La suma es igual a: {Suma(1, 1)}\")\n",
    "print(f\"La resta es igual a: {Resta(1, 1)}\")\n",
    "print(f\"La multiplicacion es igual a: {Multiplicacion(2, 2)}\")\n",
    "print(f\"La division es igual a: {Division(25, 5)}\")\n",
    "print(f\"La potencia es igual a: {Potencia(2, 2)}\")\n",
    "print(f\"La raiz cuadrada es igual a: {Raiz(36)}\")"
   ]
  }
 ],
 "metadata": {
  "language_info": {
   "name": "python"
  }
 },
 "nbformat": 4,
 "nbformat_minor": 5
}
