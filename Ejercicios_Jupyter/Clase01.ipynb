{
 "cells": [
  {
   "cell_type": "code",
   "execution_count": null,
   "id": "cff617eb",
   "metadata": {},
   "outputs": [],
   "source": [
    "#Creando la clase animal\n",
    "#Clases con el primer nombre en mayuscula\n",
    "\n",
    "class Animal:\n",
    "    def __init__(self, nombre):\n",
    "        self.nombre = nombre\n",
    "\n",
    "    def comer(self):\n",
    "        print(f\"{self.nombre} el animal esta comiendo\")\n",
    "\n",
    "    def correr(self):\n",
    "        print(f\"{self.nombre} esta corriendo\")\n",
    "\n",
    "class Perro(Animal):\n",
    "    def ladrar(self):\n",
    "        print(f\"{self.nombre} gua gua gua\")\n",
    "\n",
    "# Definir objetos para usar las clases\n",
    "perro = Perro(\"Rufus\")\n",
    "perro.correr()\n",
    "perro.ladrar()\n",
    "perro.comer()\n",
    "\n",
    "gato = Animal(\"Misio\")\n",
    "gato.correr()\n",
    "gato.comer()"
   ]
  }
 ],
 "metadata": {
  "language_info": {
   "name": "python"
  }
 },
 "nbformat": 4,
 "nbformat_minor": 5
}
