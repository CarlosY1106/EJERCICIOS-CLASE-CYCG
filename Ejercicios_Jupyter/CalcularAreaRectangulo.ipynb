{
 "cells": [
  {
   "cell_type": "code",
   "execution_count": null,
   "id": "ada18650",
   "metadata": {},
   "outputs": [],
   "source": [
    "#Programa que solicita la base y la altura de un rectangulo para calcular su area\n",
    "\n",
    "Base = int (input(\"Por favor ingrese la base del rectangulo: \"))\n",
    "Altura = int (input (\"Por favor ingreses la altura del rectangulo: \"))\n",
    "\n",
    "Area = (Base * Altura)\n",
    "print (\"El area del rectangulo es igual a: \", Area)"
   ]
  }
 ],
 "metadata": {
  "language_info": {
   "name": "python"
  }
 },
 "nbformat": 4,
 "nbformat_minor": 5
}
