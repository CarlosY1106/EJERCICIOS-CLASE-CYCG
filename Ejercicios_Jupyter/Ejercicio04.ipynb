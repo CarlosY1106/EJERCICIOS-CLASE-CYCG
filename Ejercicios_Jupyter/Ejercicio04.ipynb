{
 "cells": [
  {
   "cell_type": "code",
   "execution_count": null,
   "id": "32738820",
   "metadata": {},
   "outputs": [],
   "source": [
    "#Programa que imprime la tabla de multiplicar del numero que ingrese el usuario usando el ciclo while\n",
    "i = 1\n",
    "Num = int(input(\"Por favor ingrese el numero de la tabla de multiplicar que desea ver: \"))\n",
    "print(\"La tabla de multiplicar del \", Num, \" es: \")\n",
    "while i <= 10:\n",
    "    print(Num, \"x\", i, \"=\", Num * i)\n",
    "    i += 1"
   ]
  }
 ],
 "metadata": {
  "language_info": {
   "name": "python"
  }
 },
 "nbformat": 4,
 "nbformat_minor": 5
}
