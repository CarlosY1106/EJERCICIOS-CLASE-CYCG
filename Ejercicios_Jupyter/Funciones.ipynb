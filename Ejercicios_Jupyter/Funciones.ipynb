{
 "cells": [
  {
   "cell_type": "code",
   "execution_count": null,
   "id": "ae1bb953",
   "metadata": {},
   "outputs": [],
   "source": [
    "def saludo(nombre):\n",
    "    print(f\"Hola {nombre}\")\n",
    "\n",
    "def _Pi():\n",
    "    return 3.1416\n",
    "\n",
    "def suma(a, b):\n",
    "    return a + b\n",
    "\n",
    "saludo(\"Carlitos Chávez\")\n",
    "\n",
    "#Calcular el diametro de un circulo\n",
    "R = 10\n",
    "Diametro = 2 * _Pi() * R\n",
    "print (f\"El diametro del circulo es: {Diametro}\")\n",
    "\n",
    "#Funcion suma\n",
    "print(f\"La suma es igual a: {suma(1, 1)}\")"
   ]
  }
 ],
 "metadata": {
  "language_info": {
   "name": "python"
  }
 },
 "nbformat": 4,
 "nbformat_minor": 5
}
