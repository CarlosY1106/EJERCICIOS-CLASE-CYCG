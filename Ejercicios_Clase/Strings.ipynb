{
 "cells": [
  {
   "cell_type": "markdown",
   "id": "d37b9f3b",
   "metadata": {},
   "source": [
    "PALABRAS MAGICAS PARA PY"
   ]
  },
  {
   "cell_type": "code",
   "execution_count": 3,
   "id": "39c08ddf",
   "metadata": {},
   "outputs": [],
   "source": [
    "#Palabras magicas para py\n",
    "palabra = \"murcielago\"\n"
   ]
  },
  {
   "cell_type": "code",
   "execution_count": null,
   "id": "e9857697",
   "metadata": {},
   "outputs": [],
   "source": [
    "palabra.capitalize\n",
    "palabra.upper()"
   ]
  },
  {
   "cell_type": "markdown",
   "id": "b3095699",
   "metadata": {},
   "source": [
    "TYPE"
   ]
  },
  {
   "cell_type": "code",
   "execution_count": null,
   "id": "03e2461e",
   "metadata": {},
   "outputs": [],
   "source": [
    "type(palabra)\n",
    "str.upper(palabra)"
   ]
  },
  {
   "cell_type": "code",
   "execution_count": null,
   "id": "44a9abc3",
   "metadata": {},
   "outputs": [],
   "source": [
    "palabra[0]\n",
    "palabra [-1]"
   ]
  },
  {
   "cell_type": "markdown",
   "id": "fa6da105",
   "metadata": {},
   "source": [
    "DIR"
   ]
  },
  {
   "cell_type": "code",
   "execution_count": null,
   "id": "74c4d5e4",
   "metadata": {},
   "outputs": [],
   "source": [
    "frase = \"Un día lluvioso es un día feliz\"\n",
    "dir(frase)"
   ]
  },
  {
   "cell_type": "markdown",
   "id": "23b5bfbf",
   "metadata": {},
   "source": [
    "HELP"
   ]
  },
  {
   "cell_type": "code",
   "execution_count": null,
   "id": "4bbf8bdf",
   "metadata": {},
   "outputs": [],
   "source": [
    "help(frase.count)"
   ]
  },
  {
   "cell_type": "code",
   "execution_count": 15,
   "id": "815181d5",
   "metadata": {},
   "outputs": [
    {
     "data": {
      "text/plain": [
       "1"
      ]
     },
     "execution_count": 15,
     "metadata": {},
     "output_type": "execute_result"
    }
   ],
   "source": [
    "frase.count(\"a\")\n",
    "palabra.count(\"a\")"
   ]
  },
  {
   "cell_type": "code",
   "execution_count": null,
   "id": "06386917",
   "metadata": {},
   "outputs": [],
   "source": [
    "palabra[1:3]"
   ]
  },
  {
   "cell_type": "code",
   "execution_count": null,
   "id": "ff25ac64",
   "metadata": {},
   "outputs": [],
   "source": [
    "help (frase.split)"
   ]
  },
  {
   "cell_type": "code",
   "execution_count": null,
   "id": "f465087e",
   "metadata": {},
   "outputs": [],
   "source": [
    "frase.split(\" \")"
   ]
  },
  {
   "cell_type": "code",
   "execution_count": null,
   "id": "d4a541d7",
   "metadata": {},
   "outputs": [],
   "source": [
    "help (frase.replace)"
   ]
  },
  {
   "cell_type": "code",
   "execution_count": 26,
   "id": "e7189e2e",
   "metadata": {},
   "outputs": [
    {
     "data": {
      "text/plain": [
       "'-U-n- -d-í-a- -l-l-u-v-i-o-s-o- -e-s- -u-n- -d-í-a- -f-e-l-i-z-'"
      ]
     },
     "execution_count": 26,
     "metadata": {},
     "output_type": "execute_result"
    }
   ],
   "source": [
    "frase.replace(\"\", \"-\")"
   ]
  }
 ],
 "metadata": {
  "kernelspec": {
   "display_name": "base",
   "language": "python",
   "name": "python3"
  },
  "language_info": {
   "codemirror_mode": {
    "name": "ipython",
    "version": 3
   },
   "file_extension": ".py",
   "mimetype": "text/x-python",
   "name": "python",
   "nbconvert_exporter": "python",
   "pygments_lexer": "ipython3",
   "version": "3.12.7"
  }
 },
 "nbformat": 4,
 "nbformat_minor": 5
}
