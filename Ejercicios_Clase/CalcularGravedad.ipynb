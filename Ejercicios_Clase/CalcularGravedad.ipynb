{
 "cells": [
  {
   "cell_type": "markdown",
   "id": "fcfc8fb9",
   "metadata": {},
   "source": [
    "#### Ejercicio para calcular la velocidad y el desplazamiento usando la formula de caida libre."
   ]
  },
  {
   "cell_type": "code",
   "execution_count": null,
   "id": "06050893",
   "metadata": {},
   "outputs": [],
   "source": [
    "#Guardar los siguientes valores en una tupla, el valor de la gravedad, y en la valor de la ingravidez. hacer un ejercicio usando un diccionario calcular la velocidad y el desplazamiento en caída libre.\n",
    "\n",
    "#Variables\n",
    "Gravedad = 9.81\n",
    "Ingravidez = 0\n",
    "\n",
    "# Tupla\n",
    "Datos = (Gravedad, Ingravidez)\n",
    "\n",
    "# Diccionario \n",
    "CaidaLibre = {\n",
    "    \"Gravedad\": Gravedad,\n",
    "    \"Ingravidez\": Ingravidez,\n",
    "    \"Velocidad\": 0,\n",
    "    \"Desplazamiento\": 0\n",
    "}\n",
    "\n",
    "# Función\n",
    "def CalcularCaidaLibre(Tiempo):\n",
    "    CaidaLibre[\"Velocidad\"] = CaidaLibre[\"Gravedad\"] * Tiempo\n",
    "    CaidaLibre[\"Desplazamiento\"] = 0.5 * CaidaLibre[\"Gravedad\"] * (Tiempo ** 2)\n",
    "\n",
    "# Asignar tiempo a la función\n",
    "CalcularCaidaLibre(10)\n",
    "\n",
    "# Imprimir resultados\n",
    "print(\"Resultados de la caída libre:\")\n",
    "print(\"Velocidad:\", CaidaLibre[\"Velocidad\"], \"m/s\")\n",
    "print(\"Desplazamiento:\", CaidaLibre[\"Desplazamiento\"], \"m\")"
   ]
  }
 ],
 "metadata": {
  "kernelspec": {
   "display_name": "base",
   "language": "python",
   "name": "python3"
  },
  "language_info": {
   "codemirror_mode": {
    "name": "ipython",
    "version": 3
   },
   "file_extension": ".py",
   "mimetype": "text/x-python",
   "name": "python",
   "nbconvert_exporter": "python",
   "pygments_lexer": "ipython3",
   "version": "3.12.7"
  }
 },
 "nbformat": 4,
 "nbformat_minor": 5
}
