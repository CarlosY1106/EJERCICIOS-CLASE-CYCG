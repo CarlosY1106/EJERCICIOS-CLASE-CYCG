{
 "cells": [
  {
   "cell_type": "code",
   "execution_count": null,
   "id": "c6a1942d",
   "metadata": {},
   "outputs": [],
   "source": [
    "import pandas as pd\n",
    "from tabulate import tabulate\n",
    "\n",
    "print(\"Programa para calcular el valor de un producto utilizando diccionarios\")\n",
    "\n",
    "producto = {\n",
    "    \"nombre\": \"Camisa Deportiva\",\n",
    "    \"cantidad\": 3,\n",
    "    \"valor_unitario\": 1000,\n",
    "    \"descuento\": 0,\n",
    "    \"isv\": 0.15\n",
    "}\n",
    "\n",
    "producto[\"subtotal\"] = producto[\"cantidad\"] * producto[\"valor_unitario\"]\n",
    "producto[\"valor_descuento\"] = producto[\"subtotal\"] * producto[\"descuento\"]\n",
    "producto[\"subtotal_con_descuento\"] = producto[\"subtotal\"] - producto[\"valor_descuento\"]\n",
    "producto[\"valor_isv\"] = producto[\"subtotal_con_descuento\"] * producto[\"isv\"]\n",
    "producto[\"total\"] = producto[\"subtotal_con_descuento\"] + producto[\"valor_isv\"]\n",
    "\n",
    "# Convertir el diccionario en un DataFrame\n",
    "df = pd.DataFrame([producto])\n",
    "\n",
    "# Mostrar la tabla con formato mejorado\n",
    "print(\"\\nResumen de la compra importando pandas: \")\n",
    "print(tabulate(df, headers=\"keys\", tablefmt=\"pretty\"))"
   ]
  },
  {
   "cell_type": "code",
   "execution_count": null,
   "id": "92d26665-0fd9-49d9-a7e3-a66a357db1cc",
   "metadata": {},
   "outputs": [],
   "source": []
  }
 ],
 "metadata": {
  "kernelspec": {
   "display_name": "base",
   "language": "python",
   "name": "python3"
  },
  "language_info": {
   "codemirror_mode": {
    "name": "ipython",
    "version": 3
   },
   "file_extension": ".py",
   "mimetype": "text/x-python",
   "name": "python",
   "nbconvert_exporter": "python",
   "pygments_lexer": "ipython3",
   "version": "3.12.7"
  }
 },
 "nbformat": 4,
 "nbformat_minor": 5
}
