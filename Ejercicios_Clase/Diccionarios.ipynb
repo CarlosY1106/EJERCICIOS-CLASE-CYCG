{
 "cells": [
  {
   "cell_type": "code",
   "execution_count": 4,
   "id": "1390904a",
   "metadata": {},
   "outputs": [
    {
     "data": {
      "text/plain": [
       "dict"
      ]
     },
     "execution_count": 4,
     "metadata": {},
     "output_type": "execute_result"
    }
   ],
   "source": [
    "Dic = {}\n",
    "type(Dic)"
   ]
  },
  {
   "cell_type": "code",
   "execution_count": 10,
   "id": "eb18127b",
   "metadata": {},
   "outputs": [
    {
     "data": {
      "text/plain": [
       "{'Carlos': 19, 'Yahir': 20, 'Jorge': 35}"
      ]
     },
     "execution_count": 10,
     "metadata": {},
     "output_type": "execute_result"
    }
   ],
   "source": [
    "Edades = {\"Carlos\": 19, \"Yahir\": 20, \"Jorge\": 35}\n",
    "Edades[\"Carlos\"] = 19\n",
    "Edades"
   ]
  },
  {
   "cell_type": "code",
   "execution_count": 15,
   "id": "0a98aa4e",
   "metadata": {},
   "outputs": [
    {
     "data": {
      "text/plain": [
       "dict_keys(['Carlos', 'Yahir', 'Jorge'])"
      ]
     },
     "execution_count": 15,
     "metadata": {},
     "output_type": "execute_result"
    }
   ],
   "source": [
    "#Un diccionario es una coleccion de pares clave valor obligatorios las claves deben ser unicas.\n",
    "Edades.keys()\n"
   ]
  },
  {
   "cell_type": "code",
   "execution_count": 14,
   "id": "c9f713ce",
   "metadata": {},
   "outputs": [
    {
     "data": {
      "text/plain": [
       "dict_values([19, 20, 35])"
      ]
     },
     "execution_count": 14,
     "metadata": {},
     "output_type": "execute_result"
    }
   ],
   "source": [
    "Edades.values()"
   ]
  },
  {
   "cell_type": "code",
   "execution_count": 16,
   "id": "e2ad15c3",
   "metadata": {},
   "outputs": [
    {
     "data": {
      "text/plain": [
       "dict_items([('Carlos', 19), ('Yahir', 20), ('Jorge', 35)])"
      ]
     },
     "execution_count": 16,
     "metadata": {},
     "output_type": "execute_result"
    }
   ],
   "source": [
    "Edades.items()"
   ]
  },
  {
   "cell_type": "code",
   "execution_count": 17,
   "id": "cea92775",
   "metadata": {},
   "outputs": [
    {
     "data": {
      "text/plain": [
       "19"
      ]
     },
     "execution_count": 17,
     "metadata": {},
     "output_type": "execute_result"
    }
   ],
   "source": [
    "Edades.get (\"Carlos\")"
   ]
  },
  {
   "cell_type": "code",
   "execution_count": 18,
   "id": "6768b9e6",
   "metadata": {},
   "outputs": [
    {
     "data": {
      "text/plain": [
       "35"
      ]
     },
     "execution_count": 18,
     "metadata": {},
     "output_type": "execute_result"
    }
   ],
   "source": [
    "Edades.get (\"Jorge\")"
   ]
  }
 ],
 "metadata": {
  "kernelspec": {
   "display_name": "base",
   "language": "python",
   "name": "python3"
  },
  "language_info": {
   "codemirror_mode": {
    "name": "ipython",
    "version": 3
   },
   "file_extension": ".py",
   "mimetype": "text/x-python",
   "name": "python",
   "nbconvert_exporter": "python",
   "pygments_lexer": "ipython3",
   "version": "3.12.7"
  }
 },
 "nbformat": 4,
 "nbformat_minor": 5
}
