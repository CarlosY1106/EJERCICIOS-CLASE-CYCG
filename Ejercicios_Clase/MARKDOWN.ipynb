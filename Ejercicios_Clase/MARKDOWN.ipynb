{
 "cells": [
  {
   "cell_type": "code",
   "execution_count": null,
   "id": "ccb41125-dd3d-47ac-988c-ad34e3d6c5fa",
   "metadata": {},
   "outputs": [
    {
     "data": {
      "text/plain": [
       "3"
      ]
     },
     "execution_count": 1,
     "metadata": {},
     "output_type": "execute_result"
    }
   ],
   "source": [
    "1+2"
   ]
  },
  {
   "cell_type": "code",
   "execution_count": null,
   "id": "6cd005be-e680-4729-af44-7660afa07ecc",
   "metadata": {},
   "outputs": [
    {
     "data": {
      "text/plain": [
       "3"
      ]
     },
     "execution_count": 2,
     "metadata": {},
     "output_type": "execute_result"
    }
   ],
   "source": [
    "a = 1+2\n",
    "a"
   ]
  },
  {
   "cell_type": "markdown",
   "id": "823d2445-22d5-4ece-8bc0-96ab003841a0",
   "metadata": {},
   "source": [
    "# Carlos Chávez\n",
    "## SANTA BÁRBARA\n",
    "* Barrio abajo Gualjoco S.B"
   ]
  },
  {
   "cell_type": "code",
   "execution_count": null,
   "id": "5c1fc887-11ed-4ec7-8e40-438be1d74c7c",
   "metadata": {},
   "outputs": [],
   "source": []
  }
 ],
 "metadata": {
  "kernelspec": {
   "display_name": "Python [conda env:base] *",
   "language": "python",
   "name": "conda-base-py"
  },
  "language_info": {
   "codemirror_mode": {
    "name": "ipython",
    "version": 3
   },
   "file_extension": ".py",
   "mimetype": "text/x-python",
   "name": "python",
   "nbconvert_exporter": "python",
   "pygments_lexer": "ipython3",
   "version": "3.12.7"
  }
 },
 "nbformat": 4,
 "nbformat_minor": 5
}
