{
 "cells": [
  {
   "cell_type": "code",
   "execution_count": 40,
   "id": "8b40b344",
   "metadata": {},
   "outputs": [
    {
     "data": {
      "text/plain": [
       "list"
      ]
     },
     "execution_count": 40,
     "metadata": {},
     "output_type": "execute_result"
    }
   ],
   "source": [
    "Frutas = [\"Banana\", \"Melon\", \"Naranja\", \"Sandia\", \"Fresa\"]\n",
    "type(Frutas)\n"
   ]
  },
  {
   "cell_type": "code",
   "execution_count": null,
   "id": "e244b2a9",
   "metadata": {},
   "outputs": [
    {
     "data": {
      "text/plain": [
       "list"
      ]
     },
     "execution_count": 41,
     "metadata": {},
     "output_type": "execute_result"
    }
   ],
   "source": [
    "Listas=[[1, 2, 3], [\"a\", \"b\", \"c\"], [True, False]]\n",
    "type(Listas)"
   ]
  },
  {
   "cell_type": "code",
   "execution_count": 1,
   "id": "5f7bc4be",
   "metadata": {},
   "outputs": [],
   "source": [
    "Mixtas = [1, \"a\", True, 3.14]"
   ]
  },
  {
   "cell_type": "code",
   "execution_count": null,
   "id": "e98072f1",
   "metadata": {},
   "outputs": [],
   "source": [
    "Frutas.pop()\n",
    "Frutas.append(\"Guayaba\")  \n",
    "Frutas.insert(2, \"Kiwi\")  \n",
    "Frutas.sort()\n",
    "Frutas.pop()\n",
    "Frutas.remove(\"Kiwi\")\n",
    "Frutas"
   ]
  },
  {
   "cell_type": "code",
   "execution_count": null,
   "id": "6453eb79",
   "metadata": {},
   "outputs": [
    {
     "data": {
      "text/plain": [
       "['__add__',\n",
       " '__class__',\n",
       " '__class_getitem__',\n",
       " '__contains__',\n",
       " '__delattr__',\n",
       " '__delitem__',\n",
       " '__dir__',\n",
       " '__doc__',\n",
       " '__eq__',\n",
       " '__format__',\n",
       " '__ge__',\n",
       " '__getattribute__',\n",
       " '__getitem__',\n",
       " '__getstate__',\n",
       " '__gt__',\n",
       " '__hash__',\n",
       " '__iadd__',\n",
       " '__imul__',\n",
       " '__init__',\n",
       " '__init_subclass__',\n",
       " '__iter__',\n",
       " '__le__',\n",
       " '__len__',\n",
       " '__lt__',\n",
       " '__mul__',\n",
       " '__ne__',\n",
       " '__new__',\n",
       " '__reduce__',\n",
       " '__reduce_ex__',\n",
       " '__repr__',\n",
       " '__reversed__',\n",
       " '__rmul__',\n",
       " '__setattr__',\n",
       " '__setitem__',\n",
       " '__sizeof__',\n",
       " '__str__',\n",
       " '__subclasshook__',\n",
       " 'append',\n",
       " 'clear',\n",
       " 'copy',\n",
       " 'count',\n",
       " 'extend',\n",
       " 'index',\n",
       " 'insert',\n",
       " 'pop',\n",
       " 'remove',\n",
       " 'reverse',\n",
       " 'sort']"
      ]
     },
     "execution_count": 27,
     "metadata": {},
     "output_type": "execute_result"
    }
   ],
   "source": [
    "dir (Frutas)"
   ]
  },
  {
   "cell_type": "code",
   "execution_count": null,
   "id": "74694707",
   "metadata": {},
   "outputs": [
    {
     "data": {
      "text/plain": [
       "6"
      ]
     },
     "execution_count": 30,
     "metadata": {},
     "output_type": "execute_result"
    }
   ],
   "source": [
    "len(\"Yahir\")\n",
    "len(\"Frutas\")"
   ]
  },
  {
   "cell_type": "code",
   "execution_count": null,
   "id": "f0a3df22",
   "metadata": {},
   "outputs": [
    {
     "data": {
      "text/plain": [
       "[1, 2, 3, 4, 5, 6]"
      ]
     },
     "execution_count": 33,
     "metadata": {},
     "output_type": "execute_result"
    }
   ],
   "source": [
    "Lista1 = [1, 2, 3]\n",
    "Lista2 = [4, 5, 6]\n",
    "Combinada = Lista1 + Lista2\n",
    "Combinada"
   ]
  },
  {
   "cell_type": "code",
   "execution_count": null,
   "id": "5e39c61e",
   "metadata": {},
   "outputs": [
    {
     "data": {
      "text/plain": [
       "[2, 3, 4]"
      ]
     },
     "execution_count": 35,
     "metadata": {},
     "output_type": "execute_result"
    }
   ],
   "source": [
    "Sublista = Combinada[1:4] \n",
    "Sublista"
   ]
  },
  {
   "cell_type": "markdown",
   "id": "9ce52b3d",
   "metadata": {},
   "source": [
    "TUPLAS"
   ]
  },
  {
   "cell_type": "code",
   "execution_count": null,
   "id": "7d2743de",
   "metadata": {},
   "outputs": [
    {
     "data": {
      "text/plain": [
       "tuple"
      ]
     },
     "execution_count": 36,
     "metadata": {},
     "output_type": "execute_result"
    }
   ],
   "source": [
    "T = 1,2 \n",
    "type(T)"
   ]
  },
  {
   "cell_type": "code",
   "execution_count": null,
   "id": "66a37206",
   "metadata": {},
   "outputs": [],
   "source": [
    "T2= (1, 2, 3)\n",
    "type(T2)"
   ]
  },
  {
   "cell_type": "code",
   "execution_count": 39,
   "id": "2714fa0f",
   "metadata": {},
   "outputs": [
    {
     "data": {
      "text/plain": [
       "tuple"
      ]
     },
     "execution_count": 39,
     "metadata": {},
     "output_type": "execute_result"
    }
   ],
   "source": [
    "TM = (\"Carlos\", \"Chávez\", 19)\n",
    "type (TM)"
   ]
  },
  {
   "cell_type": "code",
   "execution_count": 45,
   "id": "1b33fb02",
   "metadata": {},
   "outputs": [
    {
     "data": {
      "text/plain": [
       "'CHÁVEZ'"
      ]
     },
     "execution_count": 45,
     "metadata": {},
     "output_type": "execute_result"
    }
   ],
   "source": [
    "Elemento = TM[1]\n",
    "Elemento\n",
    "Elemento.upper()"
   ]
  },
  {
   "cell_type": "code",
   "execution_count": 8,
   "id": "4fbd229c",
   "metadata": {},
   "outputs": [],
   "source": [
    "Tupla = (1, 2, 3)\n",
    "Tupla [0]\n",
    "a, b, c  = Tupla"
   ]
  },
  {
   "cell_type": "code",
   "execution_count": null,
   "id": "b1a6c1b9",
   "metadata": {},
   "outputs": [
    {
     "data": {
      "text/plain": [
       "(('Carlos', 'Chávez'), (11, 4, 2006))"
      ]
     },
     "execution_count": 7,
     "metadata": {},
     "output_type": "execute_result"
    }
   ],
   "source": [
    "Nacimiento = (11,4,2006)\n",
    "Nombres=(\"Carlos\", \"Chávez\")\n",
    "Datos=(Nombres, Nacimiento)  \n",
    "Datos"
   ]
  }
 ],
 "metadata": {
  "kernelspec": {
   "display_name": "base",
   "language": "python",
   "name": "python3"
  },
  "language_info": {
   "codemirror_mode": {
    "name": "ipython",
    "version": 3
   },
   "file_extension": ".py",
   "mimetype": "text/x-python",
   "name": "python",
   "nbconvert_exporter": "python",
   "pygments_lexer": "ipython3",
   "version": "3.12.7"
  }
 },
 "nbformat": 4,
 "nbformat_minor": 5
}
