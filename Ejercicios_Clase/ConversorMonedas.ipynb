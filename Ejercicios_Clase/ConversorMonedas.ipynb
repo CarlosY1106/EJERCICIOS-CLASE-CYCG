{
 "cells": [
  {
   "cell_type": "code",
   "execution_count": null,
   "id": "4e37505b-4acf-44f4-a848-45050e00f6a4",
   "metadata": {},
   "outputs": [],
   "source": [
    "#Programa que simula un conversor de monedas en lempiras hondureños, en dolares y en euros.\n",
    "\n",
    "def Conversor():\n",
    "    print(\"1) Moneda en dolar\")\n",
    "    print(\"2) Moneda en euro\")\n",
    "    print(\"3) Moneda en lempira\")\n",
    "    Opcion = int(input(\"Por favor, ingrese la moneda que desea convertir: \"))  \n",
    "\n",
    "    if Opcion == 1:\n",
    "        Dolar = float(input(\"Por favor ingrese la cantidad a la que desea convertir: \"))  \n",
    "        DolarLempira = Dolar * 25  \n",
    "        DolarEuro = Dolar * 0.85  \n",
    "        print(f\"La cantidad de dolares a lempiras es: {DolarLempira}\")  \n",
    "        print(f\"La cantidad de dolares a euros es: {DolarEuro}\")  \n",
    "    \n",
    "    elif Opcion == 2:\n",
    "        Euro = float(input(\"Por favor ingrese la cantidad a la que desea convertir: \"))  \n",
    "        EuroDolar = Euro * 1.18  \n",
    "        EuroLempira = Euro * 29.41  \n",
    "        print(f\"La cantidad de euros a dolares es: {EuroDolar}\")  \n",
    "        print(f\"La cantidad de euros a lempiras es: {EuroLempira}\")  \n",
    "    \n",
    "    elif Opcion == 3:\n",
    "        Lempira = float(input(\"Por favor ingrese la cantidad a la que desea convertir: \"))  \n",
    "        LempiraDolar = Lempira / 25  \n",
    "        LempiraEuro = Lempira / 29.41  \n",
    "        print(f\"La cantidad de lempiras a dolares es: {LempiraDolar}\")  \n",
    "        print(f\"La cantidad de lempiras a euros es: {LempiraEuro}\")  \n",
    "    \n",
    "    else:\n",
    "        print(\"Opcion inexistente, por favor intente de nuevo.\")\n",
    "Conversor()"
   ]
  }
 ],
 "metadata": {
  "kernelspec": {
   "display_name": "base",
   "language": "python",
   "name": "python3"
  },
  "language_info": {
   "codemirror_mode": {
    "name": "ipython",
    "version": 3
   },
   "file_extension": ".py",
   "mimetype": "text/x-python",
   "name": "python",
   "nbconvert_exporter": "python",
   "pygments_lexer": "ipython3",
   "version": "3.12.7"
  }
 },
 "nbformat": 4,
 "nbformat_minor": 5
}
