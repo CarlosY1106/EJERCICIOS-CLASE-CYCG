{
 "cells": [
  {
   "cell_type": "code",
   "execution_count": null,
   "id": "901c8bfe",
   "metadata": {},
   "outputs": [],
   "source": [
    "#Condicionales en python\n",
    "a = 0\n",
    "\n",
    "if a %2==0:\n",
    "    print (f\"{a} es par.\")\n",
    "else:\n",
    "    print (f\"{a} es impar.\") \n",
    "if a == 0:\n",
    "    print (f\"{a} no es par ni impar.\")"
   ]
  }
 ],
 "metadata": {
  "language_info": {
   "name": "python"
  }
 },
 "nbformat": 4,
 "nbformat_minor": 5
}
