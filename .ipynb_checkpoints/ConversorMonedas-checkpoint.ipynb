{
 "cells": [
  {
   "cell_type": "code",
   "execution_count": null,
   "id": "3f378ab0",
   "metadata": {},
   "outputs": [],
   "source": []
  },
  {
   "cell_type": "code",
   "execution_count": null,
   "id": "99816d0b",
   "metadata": {},
   "outputs": [],
   "source": [
    "#Programa que simula un conversor de moneda en lempiras hondureños, en dolares y euros.\n",
    "\n",
    "def Conversor_Moneda ():\n",
    "    print (\"Por favor ingrese la cantidad de dinero que desea convertir: \")\n",
    "    cantidad = float(input())\n",
    "    print (\"Por favor ingrese el tipo de moneda a convertir:\")\n",
    "    print (\"1.Moneda Lempiras\")\n",
    "    print (\"2.Moneda Dolares\")\n",
    "    print (\"3.Moneda Euros\")\n",
    "\n",
    "    tipo_moneda = int(input())\n",
    "    if tipo_moneda == 1:\n",
    "        print (\"La cantidad de dinero en Lempiras es: \", cantidad)\n",
    "    elif tipo_moneda == 2:\n",
    "        dolares = cantidad / 25 \n"
   ]
  },
  {
   "cell_type": "code",
   "execution_count": null,
   "id": "7c90866d",
   "metadata": {},
   "outputs": [],
   "source": []
  }
 ],
 "metadata": {
  "kernelspec": {
   "display_name": "base",
   "language": "python",
   "name": "python3"
  },
  "language_info": {
   "codemirror_mode": {
    "name": "ipython",
    "version": 3
   },
   "file_extension": ".py",
   "mimetype": "text/x-python",
   "name": "python",
   "nbconvert_exporter": "python",
   "pygments_lexer": "ipython3",
   "version": "3.12.7"
  }
 },
 "nbformat": 4,
 "nbformat_minor": 5
}
